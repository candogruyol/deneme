{
 "cells": [
  {
   "cell_type": "markdown",
   "id": "a30ead65-656f-4e6a-b114-fb8456e22525",
   "metadata": {},
   "source": [
    "# My Jupyter Notebook on IBM Watson Studio"
   ]
  },
  {
   "cell_type": "markdown",
   "id": "8bfdaa9c-db6f-418f-97ca-ef54afa2a79e",
   "metadata": {},
   "source": [
    "**Murat Can Dogruyol** <br>\n",
    "I'm an industrial engineer which works on a logistics firm right now."
   ]
  },
  {
   "cell_type": "markdown",
   "id": "e2072837-7667-4006-a3bc-1e01ed3ffbf3",
   "metadata": {},
   "source": [
    "*I'm interested in data science because, in logistics, data is everywhere but not used for good, i'm trying to fix that for my firm.*"
   ]
  },
  {
   "cell_type": "markdown",
   "id": "452cd0a8-5740-4f5a-a462-8e3e02486c44",
   "metadata": {},
   "source": [
    "### I'm gonna multiply 1+1 in the next cell!"
   ]
  },
  {
   "cell_type": "code",
   "execution_count": 2,
   "id": "c52e2d71-fba8-41e7-8dd1-2221dadcfd53",
   "metadata": {},
   "outputs": [
    {
     "data": {
      "text/plain": [
       "2"
      ]
     },
     "execution_count": 2,
     "metadata": {},
     "output_type": "execute_result"
    }
   ],
   "source": [
    "1+1"
   ]
  },
  {
   "cell_type": "markdown",
   "id": "96efdc2b-cb90-4759-98b3-662bdde494dc",
   "metadata": {},
   "source": [
    "- I did the bulleted one, <br>\n",
    "1. I did the numbered one <br>\n",
    "2. And in below, horizontal line!\n",
    "***"
   ]
  },
  {
   "cell_type": "markdown",
   "id": "4cd2fbab-44c1-45ee-81cb-3a20d9ef07fa",
   "metadata": {},
   "source": [
    "    Cell 1 (rendered as Markdown): The title should be \"My Jupyter Notebook on IBM Watson Studio\", in H1 header styling. The title does not need to be centered.\n",
    "\n",
    "    Cell 2 (rendered as Markdown): Include your name, in bold characters. In the line below your name, write your current or desired occupation in regular font.\n",
    "\n",
    "    Cell 3 (rendered as Markdown): In italic formatting, write one or two sentences about why you are interested in data science. For example, you can start your first sentence with \"I am interested in data science because ...\".\n",
    "\n",
    "    Cell 4 (rendered as Markdown): In H3 header styling, explain in a short sentence what your code is supposed to do in Cell 5.\n",
    "\n",
    "    Cell 5 (code cell): Your code, as described in Cell 4. It must be executed and must display an output. Try to keep the code simple (it can even be \"1 + 1\").\n",
    "\n",
    "    Cell 6 (rendered as Markdown): Using Markdown or HTML, this cell must include at least 3 of the following: horizontal rule, bulleted list, numbered list, tables, hyperlinks, images, code/syntax highlighting, blocked quotes, strikethrough."
   ]
  },
  {
   "cell_type": "code",
   "execution_count": null,
   "id": "ee1c9e9a-8af2-4eb2-a366-6fa18cd1c2de",
   "metadata": {},
   "outputs": [],
   "source": []
  }
 ],
 "metadata": {
  "kernelspec": {
   "display_name": "Python",
   "language": "python",
   "name": "conda-env-python-py"
  },
  "language_info": {
   "codemirror_mode": {
    "name": "ipython",
    "version": 3
   },
   "file_extension": ".py",
   "mimetype": "text/x-python",
   "name": "python",
   "nbconvert_exporter": "python",
   "pygments_lexer": "ipython3",
   "version": "3.7.12"
  }
 },
 "nbformat": 4,
 "nbformat_minor": 5
}
